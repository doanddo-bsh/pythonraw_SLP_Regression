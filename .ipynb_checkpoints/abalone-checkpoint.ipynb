{
 "cells": [
  {
   "cell_type": "code",
   "execution_count": 2,
   "metadata": {},
   "outputs": [],
   "source": [
    "# import modul\n",
    "import numpy as np\n",
    "import csv\n",
    "import time\n",
    "\n",
    "np.random.seed(1234)\n",
    "def randomize(): np.random.seed(time.time())"
   ]
  },
  {
   "cell_type": "code",
   "execution_count": 3,
   "metadata": {},
   "outputs": [],
   "source": [
    "# hyper parameter\n",
    "# 가중치 파라미터 초기화 목적\n",
    "RND_MEAN = 0 # 정규분포 난수값의 평균 \n",
    "RND_STD = 0.0030 # 정규분포 난수값의 표준편차 \n",
    "\n",
    "LEARNING_RATE = 0.001 # 학습률 "
   ]
  },
  {
   "cell_type": "code",
   "execution_count": 16,
   "metadata": {},
   "outputs": [],
   "source": [
    "input_cnt = 10\n",
    "output_cnt = 1"
   ]
  },
  {
   "cell_type": "code",
   "execution_count": null,
   "metadata": {},
   "outputs": [],
   "source": [
    "def abalone_exec(epoch_count=10,mb_size=10, report=1):\n",
    "    load_abalone_dataset() \n",
    "    init_model() # init model parameter\n",
    "    train_and_test(epoch_count, mb_size, report) # train and test"
   ]
  },
  {
   "cell_type": "code",
   "execution_count": 11,
   "metadata": {},
   "outputs": [],
   "source": [
    "def load_abalone_dataset():\n",
    "    with open(r'C:\\Users\\dcsun\\Downloads\\000_Study\\014_python_raw_codding_dl_210103\\Academy.ALZZA-master\\Academy.ALZZA-master\\data\\chap01\\abalone.csv') as csvfile:\n",
    "        csvreader = csv.reader(csvfile)\n",
    "        next(csvreader,None) # 첫 행을 읽지않고 건너뛰게함\n",
    "        rows = []\n",
    "        for row in csvreader:\n",
    "            rows.append(row)\n",
    "            \n",
    "#         global data, input_cnt, output_cnt\n",
    "        # one-hot-encoding\n",
    "        input_cnt, output_cnt = 10, 1\n",
    "        data = np.zeros([len(rows),input_cnt+output_cnt])\n",
    "        \n",
    "        for n, row in enumerate(rows):\n",
    "            if row[0] == 'I' : data[n,0] = 1\n",
    "            if row[0] == 'M' : data[n,1] = 1\n",
    "            if row[0] == 'F' : data[n,2] = 1\n",
    "            data[n, 3:] = row[1:]\n",
    "    return data            "
   ]
  },
  {
   "cell_type": "code",
   "execution_count": 12,
   "metadata": {},
   "outputs": [],
   "source": [
    "# data = load_abalone_dataset()"
   ]
  },
  {
   "cell_type": "code",
   "execution_count": 15,
   "metadata": {},
   "outputs": [],
   "source": [
    "def init_model():\n",
    "    global weight, bias, input_cnt, output_cnt\n",
    "    weight = np.random.normal(RND_MEAN, RND_STD, [input_cnt, output_cnt]) # row, col num가 input output 수\n",
    "    bias = np.zeros([output_cnt]) # bias를 0으로"
   ]
  },
  {
   "cell_type": "code",
   "execution_count": 17,
   "metadata": {},
   "outputs": [],
   "source": [
    "weight = np.random.normal(RND_MEAN, RND_STD, [input_cnt, output_cnt])"
   ]
  },
  {
   "cell_type": "code",
   "execution_count": 18,
   "metadata": {},
   "outputs": [
    {
     "data": {
      "text/plain": [
       "array([[ 1.41430549e-03],\n",
       "       [-3.57292708e-03],\n",
       "       [ 4.29812091e-03],\n",
       "       [-9.37955688e-04],\n",
       "       [-2.16176620e-03],\n",
       "       [ 2.66148882e-03],\n",
       "       [ 2.57876524e-03],\n",
       "       [-1.90957051e-03],\n",
       "       [ 4.70891163e-05],\n",
       "       [-6.72805486e-03]])"
      ]
     },
     "execution_count": 18,
     "metadata": {},
     "output_type": "execute_result"
    }
   ],
   "source": [
    "weight"
   ]
  },
  {
   "cell_type": "code",
   "execution_count": 19,
   "metadata": {},
   "outputs": [],
   "source": [
    "# 74page\n",
    "def train_and_test(epoch_count, mb_size, report):\n",
    "    step_count = arrange_data(mb_size)\n",
    "    test_x, test_y = get_test_data()\n",
    "    \n",
    "    for epoch in range(step_count):\n",
    "        losses, accs = [], []\n",
    "        for n in range(step_count):\n",
    "            train_x, train_y = get_train_data(mb_size, n)\n",
    "            loss, acc = run_train(train_x, train_y)\n",
    "            losses.append(loss)\n",
    "            accs.append(acc)\n",
    "\n",
    "        if report > 0 and (epoch+1) % report == 0 :\n",
    "            acc = run_test(test_x, test_y)\n",
    "            print('Epoch {}: loss={:5,3f}, accuracy={:5.3f}/{:5.3f}'.format(epoch+1, np.mean(losses), np.mean(accs), acc))\n",
    "    final_acc = run_test(test_x, test_y)\n",
    "    print('\\nFinal Test: final accuray = {:5.3f}'.format(final_acc))"
   ]
  },
  {
   "cell_type": "code",
   "execution_count": null,
   "metadata": {},
   "outputs": [],
   "source": []
  }
 ],
 "metadata": {
  "kernelspec": {
   "display_name": "Python 3",
   "language": "python",
   "name": "python3"
  },
  "language_info": {
   "codemirror_mode": {
    "name": "ipython",
    "version": 3
   },
   "file_extension": ".py",
   "mimetype": "text/x-python",
   "name": "python",
   "nbconvert_exporter": "python",
   "pygments_lexer": "ipython3",
   "version": "3.8.3"
  }
 },
 "nbformat": 4,
 "nbformat_minor": 4
}
